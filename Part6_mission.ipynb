{
  "nbformat": 4,
  "nbformat_minor": 0,
  "metadata": {
    "colab": {
      "provenance": []
    },
    "kernelspec": {
      "name": "python3",
      "display_name": "Python 3"
    },
    "language_info": {
      "name": "python"
    }
  },
  "cells": [
    {
      "cell_type": "code",
      "execution_count": null,
      "metadata": {
        "colab": {
          "base_uri": "https://localhost:8080/"
        },
        "id": "6ZG6DktnKFJw",
        "outputId": "1c6ccd73-16a7-42c1-ca31-c520838d0e8c"
      },
      "outputs": [
        {
          "output_type": "stream",
          "name": "stdout",
          "text": [
            "20\n",
            "람다 함수 적용\n",
            "0      110.0\n",
            "1      190.0\n",
            "2      130.0\n",
            "3      175.0\n",
            "4      175.0\n",
            "       ...  \n",
            "886    135.0\n",
            "887     95.0\n",
            "888      NaN\n",
            "889    130.0\n",
            "890    160.0\n",
            "Name: age, Length: 891, dtype: float64\n",
            "위의 함수 적용\n",
            "0      14.7500\n",
            "1      33.2833\n",
            "2      18.0750\n",
            "3      18.1000\n",
            "4      26.9500\n",
            "        ...   \n",
            "886    14.0000\n",
            "887    11.0000\n",
            "888     0.0000\n",
            "889     4.0000\n",
            "890    24.2500\n",
            "Length: 891, dtype: float64\n"
          ]
        }
      ],
      "source": [
        "import seaborn as sns\n",
        "import pandas as pd\n",
        "\n",
        "# 타이타닉 데이터\n",
        "titanic = sns.load_dataset('titanic')\n",
        "df = titanic.loc[:, ['age','fare']] # : 모든 행을 선\n",
        "df.head() #상위 5개열 출력\n",
        "\n",
        "# age 열에 각 나이에 10을 더하는 add_10() 함수를 적용하세요.\n",
        "def add_10(n):\n",
        "  return n+10\n",
        "print(add_10(10))\n",
        "\n",
        "# age 열에 람다 함수를 사용하여 모든 나이에 5를 곱하는 변환을 수행하세요.\n",
        "times_5 = df['age'].apply(lambda x: x*5)\n",
        "print(\"람다 함수 적용\")\n",
        "print(times_5)\n",
        "\n",
        "# age와 fare 열에 동시에 최댓값과 최솟값의 차이를 계산하는 함수를 적용하세요.\n",
        "def calculate(series): # series는 이 함수에 **외부에서 전달되는 1차원 데이터(Series)**를 받을 변수\n",
        "  return pd.Series({\n",
        "      'max': series.max(),\n",
        "      'min': series.min()})\n",
        "\n",
        "numeric_df = df[['age','fare']]\n",
        "result_df = numeric_df.apply(lambda x: x.max()-x.min(), axis=1)\n",
        "print(\"위의 함수 적용\")\n",
        "print(result_df)\n"
      ]
    },
    {
      "cell_type": "code",
      "source": [
        "# 미션 2: 시리즈 객체에 함수 매핑\n",
        "\n",
        "# 각 열의 최댓값, 최솟값, 평균, 중앙값을 계산하는 calculate_stats() 함수를 생성하세요.\n",
        "def calculate_stats(series):\n",
        "  return pd.Series({\n",
        "      'max': series.max(),\n",
        "      'min': series.min(),\n",
        "      'mean': series.mean(),\n",
        "      'median': series.median()})\n",
        "\n",
        "# 데이터프레임의 모든 열에 axis=0 옵션을 사용하여 위 함수를 적용하세요.\n",
        "numeric_df = df[['age','fare']]\n",
        "result_df = numeric_df.apply(calculate_stats, axis=0)\n",
        "print(\"위의 함수 적용\")\n",
        "print(result_df)\n",
        "\n",
        "# axis=1 옵션을 사용하여 각 행별로 최댓값과 최솟값의 차이를 구하세요.\n",
        "result_sr = numeric_df.apply(lambda x: x.max()-x.min(),axis=1)\n",
        "print(\"\\n각 행의 최대값-최소값 차이:\")\n",
        "print(result_sr)"
      ],
      "metadata": {
        "colab": {
          "base_uri": "https://localhost:8080/"
        },
        "id": "2CF3quOUKnxn",
        "outputId": "ad8a5b62-6bb2-4419-93a0-7f0185eb4607"
      },
      "execution_count": null,
      "outputs": [
        {
          "output_type": "stream",
          "name": "stdout",
          "text": [
            "위의 함수 적용\n",
            "              age        fare\n",
            "max     80.000000  512.329200\n",
            "min      0.420000    0.000000\n",
            "mean    29.699118   32.204208\n",
            "median  28.000000   14.454200\n",
            "\n",
            "각 행의 최대값-최소값 차이:\n",
            "0      14.7500\n",
            "1      33.2833\n",
            "2      18.0750\n",
            "3      18.1000\n",
            "4      26.9500\n",
            "        ...   \n",
            "886    14.0000\n",
            "887    11.0000\n",
            "888     0.0000\n",
            "889     4.0000\n",
            "890    24.2500\n",
            "Length: 891, dtype: float64\n"
          ]
        }
      ]
    },
    {
      "cell_type": "code",
      "source": [
        "# 미션 3: 조건식을 만족하는 열의 필터링\n",
        "\n",
        "titanic = sns.load_dataset('titanic')\n",
        "\n",
        "# 평균값이 30을 초과하는 열만 선택하여 새로운 데이터프레임을 생성하세요.\n",
        "df['average_column'] = df.mean()\n",
        "df['average_filter'] = df['average_column'] > 30\n",
        "print(df['average_filter'])\n",
        "# print(df)\n",
        "\n",
        "# 각 행의 평균값이 50을 초과하지 않으면 'Low', 그렇지 않으면 'High'로 분류하는 새로운 열을 추가하세요.\n",
        "#df['over_50'] = df.apply(lambda row: 'Low' if row['average_column'] < 50 else 'High')"
      ],
      "metadata": {
        "colab": {
          "base_uri": "https://localhost:8080/"
        },
        "id": "cHDasn49pU-x",
        "outputId": "36093ca7-bb1b-4343-a031-09dced8b4c78"
      },
      "execution_count": null,
      "outputs": [
        {
          "output_type": "stream",
          "name": "stdout",
          "text": [
            "0      False\n",
            "1      False\n",
            "2      False\n",
            "3      False\n",
            "4      False\n",
            "       ...  \n",
            "886    False\n",
            "887    False\n",
            "888    False\n",
            "889    False\n",
            "890    False\n",
            "Name: average_filter, Length: 891, dtype: bool\n"
          ]
        }
      ]
    },
    {
      "cell_type": "code",
      "source": [
        "# 미션 4: 데이터프레임 객체에 함수 매핑\n",
        "\n",
        "# 결측치를 중앙값으로 대체하는 함수를 생성하고 pipe()로 적용하세요.\n",
        "titanic = sns.load_dataset('titanic')\n",
        "df = titanic\n",
        "df = titanic.loc[:, ['age','fare']]\n",
        "print(df.isnull().sum())\n",
        "\n",
        "def fillna_with_median(series):\n",
        "    return series.fillna(series.median())\n",
        "df2 = fillna_with_median(df)\n",
        "print(df2.isnull().sum())"
      ],
      "metadata": {
        "colab": {
          "base_uri": "https://localhost:8080/"
        },
        "id": "TLHk8Ekar_vV",
        "outputId": "5ba83729-28ea-4b38-a7c1-28e9b0bdd6d4"
      },
      "execution_count": null,
      "outputs": [
        {
          "output_type": "stream",
          "name": "stdout",
          "text": [
            "age     177\n",
            "fare      0\n",
            "dtype: int64\n",
            "age     0\n",
            "fare    0\n",
            "dtype: int64\n"
          ]
        }
      ]
    },
    {
      "cell_type": "code",
      "source": [
        "# 미션 5: 열 순서 변경과 정렬\n",
        "\n",
        "# 데이터프레임의 열 이름을 알파벳 순으로 정렬하세요.\n",
        "titanic = sns.load_dataset('titanic')\n",
        "df = titanic\n",
        "df = titanic.loc[:, ['age','fare','sex','survived','pclass']]\n",
        "\n",
        "columns_sorted = sorted(df,reverse=False) # 오름차순\n",
        "print(columns_sorted)\n",
        "\n",
        "# 역순으로 열을 배치한 후, 사용자 정의 순서(['survived', 'sex', 'pclass', 'age'])로 다시 정렬하세요.\n",
        "columns_reverse = sorted(columns_sorted,reverse=True)\n",
        "print(columns_reverse)\n",
        "\n",
        "columns_customed = ['survived','sex','pclass','age']\n",
        "df_customed = df[columns_customed]\n",
        "print(df_customed)\n",
        "\n",
        "# 열 분리: str.split()을 사용하여 날짜 데이터를 년, 월, 일로 분리하세요.\n",
        "df2 = pd.read_excel('/content/drive/MyDrive/Colab Notebooks/data-set.xlsx',engine = 'openpyxl')\n",
        "df2['연월일'] = df2['연월일'].astype('str')\n",
        "dates = df2['연월일'].str.split('-')\n",
        "dates.head()"
      ],
      "metadata": {
        "colab": {
          "base_uri": "https://localhost:8080/",
          "height": 537
        },
        "id": "SW4SCYq6wBJp",
        "outputId": "005768a8-f44d-4e01-a80b-cc0178d530a1"
      },
      "execution_count": null,
      "outputs": [
        {
          "output_type": "stream",
          "name": "stdout",
          "text": [
            "['age', 'fare', 'pclass', 'sex', 'survived']\n",
            "['survived', 'sex', 'pclass', 'fare', 'age']\n",
            "     survived     sex  pclass   age\n",
            "0           0    male       3  22.0\n",
            "1           1  female       1  38.0\n",
            "2           1  female       3  26.0\n",
            "3           1  female       1  35.0\n",
            "4           0    male       3  35.0\n",
            "..        ...     ...     ...   ...\n",
            "886         0    male       2  27.0\n",
            "887         1  female       1  19.0\n",
            "888         0  female       3   NaN\n",
            "889         1    male       1  26.0\n",
            "890         0    male       3  32.0\n",
            "\n",
            "[891 rows x 4 columns]\n"
          ]
        },
        {
          "output_type": "execute_result",
          "data": {
            "text/plain": [
              "0    [2018, 07, 02]\n",
              "1    [2018, 06, 29]\n",
              "2    [2018, 06, 28]\n",
              "3    [2018, 06, 27]\n",
              "4    [2018, 06, 26]\n",
              "Name: 연월일, dtype: object"
            ],
            "text/html": [
              "<div>\n",
              "<style scoped>\n",
              "    .dataframe tbody tr th:only-of-type {\n",
              "        vertical-align: middle;\n",
              "    }\n",
              "\n",
              "    .dataframe tbody tr th {\n",
              "        vertical-align: top;\n",
              "    }\n",
              "\n",
              "    .dataframe thead th {\n",
              "        text-align: right;\n",
              "    }\n",
              "</style>\n",
              "<table border=\"1\" class=\"dataframe\">\n",
              "  <thead>\n",
              "    <tr style=\"text-align: right;\">\n",
              "      <th></th>\n",
              "      <th>연월일</th>\n",
              "    </tr>\n",
              "  </thead>\n",
              "  <tbody>\n",
              "    <tr>\n",
              "      <th>0</th>\n",
              "      <td>[2018, 07, 02]</td>\n",
              "    </tr>\n",
              "    <tr>\n",
              "      <th>1</th>\n",
              "      <td>[2018, 06, 29]</td>\n",
              "    </tr>\n",
              "    <tr>\n",
              "      <th>2</th>\n",
              "      <td>[2018, 06, 28]</td>\n",
              "    </tr>\n",
              "    <tr>\n",
              "      <th>3</th>\n",
              "      <td>[2018, 06, 27]</td>\n",
              "    </tr>\n",
              "    <tr>\n",
              "      <th>4</th>\n",
              "      <td>[2018, 06, 26]</td>\n",
              "    </tr>\n",
              "  </tbody>\n",
              "</table>\n",
              "</div><br><label><b>dtype:</b> object</label>"
            ]
          },
          "metadata": {},
          "execution_count": 64
        }
      ]
    },
    {
      "cell_type": "code",
      "source": [
        "# 미션 6: 그룹 연산과 집계\n",
        "\n",
        "# class별로 그룹화하여 각 그룹의 데이터 개수와 평균 age, fare를 계산하세요.\n",
        "titanic = sns.load_dataset('titanic')\n",
        "df = titanic\n",
        "df = titanic.loc[:, ['age','fare','class']]\n",
        "\n",
        "grouped = df.groupby('class').agg({\n",
        "    'mean': df['age'].mean()\n",
        "    'mean2': df['fare'].mean()\n",
        "})\n"
      ],
      "metadata": {
        "colab": {
          "base_uri": "https://localhost:8080/",
          "height": 111
        },
        "id": "vqmDQWqRx2rL",
        "outputId": "37d80a66-6dc1-4164-828b-5997cfc18205"
      },
      "execution_count": null,
      "outputs": [
        {
          "output_type": "error",
          "ename": "SyntaxError",
          "evalue": "invalid syntax. Perhaps you forgot a comma? (<ipython-input-71-2573788784>, line 9)",
          "traceback": [
            "\u001b[0;36m  File \u001b[0;32m\"<ipython-input-71-2573788784>\"\u001b[0;36m, line \u001b[0;32m9\u001b[0m\n\u001b[0;31m    'mean': df['age'].mean()\u001b[0m\n\u001b[0m            ^\u001b[0m\n\u001b[0;31mSyntaxError\u001b[0m\u001b[0;31m:\u001b[0m invalid syntax. Perhaps you forgot a comma?\n"
          ]
        }
      ]
    },
    {
      "cell_type": "code",
      "source": [
        "# 미션 9: 데이터프레임 연결과 병합\n",
        "\n",
        "# 두 개의 데이터프레임을 concat()으로 수직 연결하되, ignore_index=True 옵션을 사용하세요\n",
        "df1 = pd.read_excel('/content/drive/MyDrive/Colab Notebooks/stock_price.xlsx',engine = 'openpyxl')\n",
        "df2 = pd.read_excel('/content/drive/MyDrive/Colab Notebooks/stock_valuation.xlsx',engine = 'openpyxl')\n",
        "\n",
        "# 수직으로 연결\n",
        "result1 = pd.concat([df1, df2], axis=0, ignore_index=True) # 기존의 인덱스 무시\n",
        "print(\"\\n수직 연결 결과:\")\n",
        "print(result1)\n",
        "\n",
        "# Inner Join과 Outer Join을 각각 수행하여 결과를 비교하세요.\n",
        "merge_inner = pd.merge(df1, df2, how='inner') # 공통된 열 이름을 기준으로 자동 조인\n",
        "print(\"\\nInner Join 결과:\")\n",
        "print(merge_inner)\n",
        "\n",
        "merge_outer = pd.merge(df1, df2, how='outer') # df1과 df2의 열 이름 중 공통된 열 이름을 자동으로 기준(key)으로 사용, 일치하지 않는 곳은 NaN으로 채웁니다.\n",
        "print(\"\\nOuter Join 결과:\")\n",
        "print(merge_outer)\n",
        "\n",
        "# 주식 가격 데이터와 재무 데이터를 id를 기준으로 병합하되, Left Join 방식을 사용하세요.\n",
        "merge_left = pd.merge(df1, df2, on='id',how='left') #왼쪽(df1)의 모든 행을 유지하고, df2에 일치하는 값이 있으면 가져오고, 없으면 NaN으로 채움\n",
        "print(\"\\nLeft Join 결과:\")\n",
        "print(merge_left)"
      ],
      "metadata": {
        "colab": {
          "base_uri": "https://localhost:8080/"
        },
        "collapsed": true,
        "id": "BYeiBcIX7hi8",
        "outputId": "e33e5efe-2ab1-4c60-c076-f4c4b0f74580"
      },
      "execution_count": null,
      "outputs": [
        {
          "output_type": "stream",
          "name": "stdout",
          "text": [
            "\n",
            "수직 연결 결과:\n",
            "        id stock_name          value     price       name           eps  \\\n",
            "0   128940       한미약품   59385.666667  421000.0        NaN           NaN   \n",
            "1   130960     CJ E&M   58540.666667   98900.0        NaN           NaN   \n",
            "2   138250      엔에스쇼핑   14558.666667   13200.0        NaN           NaN   \n",
            "3   139480        이마트  239230.833333  254500.0        NaN           NaN   \n",
            "4   142280     녹십자엠에스     468.833333   10200.0        NaN           NaN   \n",
            "5   145990        삼양사   82750.000000   82000.0        NaN           NaN   \n",
            "6   185750        종근당   40293.666667  100500.0        NaN           NaN   \n",
            "7   192400      쿠쿠홀딩스  179204.666667  177500.0        NaN           NaN   \n",
            "8   199800         툴젠   -2514.333333  115400.0        NaN           NaN   \n",
            "9   204210     모두투어리츠    3093.333333    3475.0        NaN           NaN   \n",
            "10  130960        NaN            NaN       NaN     CJ E&M   6301.333333   \n",
            "11  136480        NaN            NaN       NaN         하림    274.166667   \n",
            "12  138040        NaN            NaN       NaN    메리츠금융지주   2122.333333   \n",
            "13  139480        NaN            NaN       NaN        이마트  18268.166667   \n",
            "14  145990        NaN            NaN       NaN        삼양사   5741.000000   \n",
            "15  161390        NaN            NaN       NaN      한국타이어   5648.500000   \n",
            "16  181710        NaN            NaN       NaN  NHN엔터테인먼트   2110.166667   \n",
            "17  185750        NaN            NaN       NaN        종근당   3990.333333   \n",
            "18  204210        NaN            NaN       NaN     모두투어리츠     85.166667   \n",
            "19  207940        NaN            NaN       NaN   삼성바이오로직스   4644.166667   \n",
            "\n",
            "         bps        per       pbr  \n",
            "0        NaN        NaN       NaN  \n",
            "1        NaN        NaN       NaN  \n",
            "2        NaN        NaN       NaN  \n",
            "3        NaN        NaN       NaN  \n",
            "4        NaN        NaN       NaN  \n",
            "5        NaN        NaN       NaN  \n",
            "6        NaN        NaN       NaN  \n",
            "7        NaN        NaN       NaN  \n",
            "8        NaN        NaN       NaN  \n",
            "9        NaN        NaN       NaN  \n",
            "10   54068.0  15.695091  1.829178  \n",
            "11    3551.0  11.489362  0.887074  \n",
            "12   14894.0   6.313806  0.899691  \n",
            "13  295780.0  13.931338  0.860437  \n",
            "14  108090.0  14.283226  0.758627  \n",
            "15   51341.0   7.453306  0.820007  \n",
            "16   78434.0  30.755864  0.827447  \n",
            "17   40684.0  25.185866  2.470259  \n",
            "18    5335.0  40.802348  0.651359  \n",
            "19   60099.0  89.790059  6.938551  \n",
            "\n",
            "Inner Join 결과:\n",
            "       id stock_name          value   price    name           eps     bps  \\\n",
            "0  130960     CJ E&M   58540.666667   98900  CJ E&M   6301.333333   54068   \n",
            "1  139480        이마트  239230.833333  254500     이마트  18268.166667  295780   \n",
            "2  145990        삼양사   82750.000000   82000     삼양사   5741.000000  108090   \n",
            "3  185750        종근당   40293.666667  100500     종근당   3990.333333   40684   \n",
            "4  204210     모두투어리츠    3093.333333    3475  모두투어리츠     85.166667    5335   \n",
            "\n",
            "         per       pbr  \n",
            "0  15.695091  1.829178  \n",
            "1  13.931338  0.860437  \n",
            "2  14.283226  0.758627  \n",
            "3  25.185866  2.470259  \n",
            "4  40.802348  0.651359  \n",
            "\n",
            "Outer Join 결과:\n",
            "        id stock_name          value     price       name           eps  \\\n",
            "0   128940       한미약품   59385.666667  421000.0        NaN           NaN   \n",
            "1   130960     CJ E&M   58540.666667   98900.0     CJ E&M   6301.333333   \n",
            "2   136480        NaN            NaN       NaN         하림    274.166667   \n",
            "3   138040        NaN            NaN       NaN    메리츠금융지주   2122.333333   \n",
            "4   138250      엔에스쇼핑   14558.666667   13200.0        NaN           NaN   \n",
            "5   139480        이마트  239230.833333  254500.0        이마트  18268.166667   \n",
            "6   142280     녹십자엠에스     468.833333   10200.0        NaN           NaN   \n",
            "7   145990        삼양사   82750.000000   82000.0        삼양사   5741.000000   \n",
            "8   161390        NaN            NaN       NaN      한국타이어   5648.500000   \n",
            "9   181710        NaN            NaN       NaN  NHN엔터테인먼트   2110.166667   \n",
            "10  185750        종근당   40293.666667  100500.0        종근당   3990.333333   \n",
            "11  192400      쿠쿠홀딩스  179204.666667  177500.0        NaN           NaN   \n",
            "12  199800         툴젠   -2514.333333  115400.0        NaN           NaN   \n",
            "13  204210     모두투어리츠    3093.333333    3475.0     모두투어리츠     85.166667   \n",
            "14  207940        NaN            NaN       NaN   삼성바이오로직스   4644.166667   \n",
            "\n",
            "         bps        per       pbr  \n",
            "0        NaN        NaN       NaN  \n",
            "1    54068.0  15.695091  1.829178  \n",
            "2     3551.0  11.489362  0.887074  \n",
            "3    14894.0   6.313806  0.899691  \n",
            "4        NaN        NaN       NaN  \n",
            "5   295780.0  13.931338  0.860437  \n",
            "6        NaN        NaN       NaN  \n",
            "7   108090.0  14.283226  0.758627  \n",
            "8    51341.0   7.453306  0.820007  \n",
            "9    78434.0  30.755864  0.827447  \n",
            "10   40684.0  25.185866  2.470259  \n",
            "11       NaN        NaN       NaN  \n",
            "12       NaN        NaN       NaN  \n",
            "13    5335.0  40.802348  0.651359  \n",
            "14   60099.0  89.790059  6.938551  \n",
            "\n",
            "Left Join 결과:\n",
            "       id stock_name          value   price    name           eps       bps  \\\n",
            "0  128940       한미약품   59385.666667  421000     NaN           NaN       NaN   \n",
            "1  130960     CJ E&M   58540.666667   98900  CJ E&M   6301.333333   54068.0   \n",
            "2  138250      엔에스쇼핑   14558.666667   13200     NaN           NaN       NaN   \n",
            "3  139480        이마트  239230.833333  254500     이마트  18268.166667  295780.0   \n",
            "4  142280     녹십자엠에스     468.833333   10200     NaN           NaN       NaN   \n",
            "5  145990        삼양사   82750.000000   82000     삼양사   5741.000000  108090.0   \n",
            "6  185750        종근당   40293.666667  100500     종근당   3990.333333   40684.0   \n",
            "7  192400      쿠쿠홀딩스  179204.666667  177500     NaN           NaN       NaN   \n",
            "8  199800         툴젠   -2514.333333  115400     NaN           NaN       NaN   \n",
            "9  204210     모두투어리츠    3093.333333    3475  모두투어리츠     85.166667    5335.0   \n",
            "\n",
            "         per       pbr  \n",
            "0        NaN       NaN  \n",
            "1  15.695091  1.829178  \n",
            "2        NaN       NaN  \n",
            "3  13.931338  0.860437  \n",
            "4        NaN       NaN  \n",
            "5  14.283226  0.758627  \n",
            "6  25.185866  2.470259  \n",
            "7        NaN       NaN  \n",
            "8        NaN       NaN  \n",
            "9  40.802348  0.651359  \n"
          ]
        }
      ]
    },
    {
      "cell_type": "code",
      "source": [
        "# 미션 10: 피벗 테이블과 스택/언스택\n",
        "\n",
        "# class를 행, sex를 열, age를 값으로 하는 피벗 테이블을 생성하고 평균 집계를 적용하세요.\n",
        "titanic = sns.load_dataset('titanic')\n",
        "df = titanic.loc[:, ['age','class','sex']]\n",
        "\n",
        "pivot_df = df.pivot_table(\n",
        "    index='class',\n",
        "    columns='sex',\n",
        "    values='age',\n",
        "    aggfunc='mean'\n",
        ")\n",
        "#print(pivot_df)\n",
        "\n",
        "# 위에서 생성한 피벗 테이블을 stack()과 unstack() 메소드로 형태를 변환하세요.\n",
        "# 스택: 열을 행으로 변환\n",
        "stacked = df.stack()\n",
        "print(\"\\n스택 결과 (열→행):\")\n",
        "print(stacked)\n",
        "\n",
        "# 언스택: 행을 열로 변환\n",
        "unstacked = stacked.unstack()\n",
        "print(\"\\n언스택 결과 (행→열):\")\n",
        "print(unstacked)\n",
        "\n",
        "# melt() 함수를 사용하여 Wide 형태의 데이터를 Long 형태로 변환하세요.\n",
        "melted_df = df.melt(\n",
        "    id_vars='class', # 그대로 유지\n",
        "    var_name='old', # 녹아내린 열\n",
        "    value_name='mf' # 녹아내린 셀의 실제 값\n",
        ")\n",
        "print(\"\\nMelt 결과 (Wide → Long):\")\n",
        "print(melted_df)"
      ],
      "metadata": {
        "colab": {
          "base_uri": "https://localhost:8080/"
        },
        "id": "NJCQP_pP8lAp",
        "outputId": "ff477db0-3ef4-4b33-8ee4-67f3295b6d64"
      },
      "execution_count": null,
      "outputs": [
        {
          "output_type": "stream",
          "name": "stdout",
          "text": [
            "\n",
            "스택 결과 (열→행):\n",
            "0    age       22.0\n",
            "     class    Third\n",
            "     sex       male\n",
            "1    age       38.0\n",
            "     class    First\n",
            "              ...  \n",
            "889  class    First\n",
            "     sex       male\n",
            "890  age       32.0\n",
            "     class    Third\n",
            "     sex       male\n",
            "Length: 2496, dtype: object\n",
            "\n",
            "언스택 결과 (행→열):\n",
            "      age   class     sex\n",
            "0    22.0   Third    male\n",
            "1    38.0   First  female\n",
            "2    26.0   Third  female\n",
            "3    35.0   First  female\n",
            "4    35.0   Third    male\n",
            "..    ...     ...     ...\n",
            "886  27.0  Second    male\n",
            "887  19.0   First  female\n",
            "888   NaN   Third  female\n",
            "889  26.0   First    male\n",
            "890  32.0   Third    male\n",
            "\n",
            "[891 rows x 3 columns]\n",
            "\n",
            "Melt 결과 (Wide → Long):\n",
            "       class  old      mf\n",
            "0      Third  age    22.0\n",
            "1      First  age    38.0\n",
            "2      Third  age    26.0\n",
            "3      First  age    35.0\n",
            "4      Third  age    35.0\n",
            "...      ...  ...     ...\n",
            "1777  Second  sex    male\n",
            "1778   First  sex  female\n",
            "1779   Third  sex  female\n",
            "1780   First  sex    male\n",
            "1781   Third  sex    male\n",
            "\n",
            "[1782 rows x 3 columns]\n"
          ]
        },
        {
          "output_type": "stream",
          "name": "stderr",
          "text": [
            "<ipython-input-103-2597533644>:7: FutureWarning: The default value of observed=False is deprecated and will change to observed=True in a future version of pandas. Specify observed=False to silence this warning and retain the current behavior\n",
            "  pivot_df = df.pivot_table(\n"
          ]
        }
      ]
    },
    {
      "cell_type": "code",
      "source": [],
      "metadata": {
        "id": "iRHylpUGAbcn"
      },
      "execution_count": null,
      "outputs": []
    }
  ]
}