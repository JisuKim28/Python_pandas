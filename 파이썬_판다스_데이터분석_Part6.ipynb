{
  "nbformat": 4,
  "nbformat_minor": 0,
  "metadata": {
    "colab": {
      "provenance": []
    },
    "kernelspec": {
      "name": "python3",
      "display_name": "Python 3"
    },
    "language_info": {
      "name": "python"
    }
  },
  "cells": [
    {
      "cell_type": "code",
      "execution_count": null,
      "metadata": {
        "id": "3VQ8MRUf4CbW"
      },
      "outputs": [],
      "source": [
        "import pandas as pd\n",
        "import numpy as np"
      ]
    },
    {
      "cell_type": "code",
      "source": [
        "# 샘플 데이터 생성\n",
        "df = pd.DataFrame({\n",
        "    'name': ['Alice', 'Bob', 'Charlie', 'Diana'],\n",
        "    'age': [25, 30, 35, 28],\n",
        "    'salary': [50000, 60000, 70000, 55000]\n",
        "})"
      ],
      "metadata": {
        "id": "vIlJmDsj4WGZ"
      },
      "execution_count": null,
      "outputs": []
    },
    {
      "cell_type": "code",
      "source": [
        "# 사용자 정의 함수 적용\n",
        "def add_10(n):\n",
        "  return n + 10"
      ],
      "metadata": {
        "id": "KQiC6T234uZG"
      },
      "execution_count": null,
      "outputs": []
    },
    {
      "cell_type": "code",
      "source": [
        "# 시리즈에 함수 적용\n",
        "sr1 = df['age'].apply(add_10)\n",
        "print(\"add_10 함수 적용 결과:\")\n",
        "print(sr1)"
      ],
      "metadata": {
        "colab": {
          "base_uri": "https://localhost:8080/"
        },
        "id": "9mDLFrhg45gX",
        "outputId": "50a24be4-9cf4-4cba-b9cf-4022ec1c064b"
      },
      "execution_count": null,
      "outputs": [
        {
          "output_type": "stream",
          "name": "stdout",
          "text": [
            "add_10 함수 적용 결과:\n",
            "0    35\n",
            "1    40\n",
            "2    45\n",
            "3    38\n",
            "Name: age, dtype: int64\n"
          ]
        }
      ]
    },
    {
      "cell_type": "code",
      "source": [
        "# 람다 함수 사용\n",
        "sr2 = df['age'].apply(lambda n : n+10)\n",
        "print(\"\\n람다 함수 적용 결과:\")\n",
        "print(sr2)"
      ],
      "metadata": {
        "colab": {
          "base_uri": "https://localhost:8080/"
        },
        "id": "B1KUonzg5Bcz",
        "outputId": "0c56ef0b-8587-4abb-83ce-233cab3e499c"
      },
      "execution_count": null,
      "outputs": [
        {
          "output_type": "stream",
          "name": "stdout",
          "text": [
            "\n",
            "람다 함수 적용 결과:\n",
            "0    35\n",
            "1    40\n",
            "2    45\n",
            "3    38\n",
            "Name: age, dtype: int64\n"
          ]
        }
      ]
    },
    {
      "cell_type": "code",
      "source": [
        "# 통계 계산 함수\n",
        "def calculate_stats(series):\n",
        "    return pd.Series({\n",
        "        'mean': series.mean(),\n",
        "        'std': series.std(),\n",
        "        'min': series.min(),\n",
        "        'max': series.max()\n",
        "    })\n",
        "\n",
        "# 각 열에 함수 적용 (axis=0)\n",
        "numeric_df =  df[['age','salary']]\n",
        "result_df = numeric_df.apply(calculate_stats, axis=0)\n",
        "print(\"각 열에 통계 함수 적용:\")\n",
        "print(result_df)\n",
        "\n",
        "# 각 행에 함수 적용 (axis=1)\n",
        "result_sr = numeric_df.apply(lambda x : x.max() - x.min(), axis=1)\n",
        "print(\"\\n각 행의 최대값-최소값 차이:\")\n",
        "print(result_sr)"
      ],
      "metadata": {
        "colab": {
          "base_uri": "https://localhost:8080/"
        },
        "id": "8cUfP1-Y5P3s",
        "outputId": "e92bac2f-7479-4b87-e3e2-a87f2f15f9d7"
      },
      "execution_count": null,
      "outputs": [
        {
          "output_type": "stream",
          "name": "stdout",
          "text": [
            "각 열에 통계 함수 적용:\n",
            "            age        salary\n",
            "mean  29.500000  58750.000000\n",
            "std    4.203173   8539.125638\n",
            "min   25.000000  50000.000000\n",
            "max   35.000000  70000.000000\n",
            "\n",
            "각 행의 최대값-최소값 차이:\n",
            "0    49975\n",
            "1    59970\n",
            "2    69965\n",
            "3    54972\n",
            "dtype: int64\n"
          ]
        }
      ]
    },
    {
      "cell_type": "code",
      "source": [
        "# 조건에 따른 분류\n",
        "df['High_performer'] = df.apply(lambda row : 'yes' if row['salary'] > 55000 else 'No', axis=1)\n",
        "print(\"고성과자 분류 추가:\")\n",
        "print(df)\n",
        "\n",
        "# 나이가 평균보다 높은 사람들만 필터링\n",
        "avg_age = df['age'].mean()\n",
        "high_age_filter = df['age'] > avg_age\n",
        "filtered_df = df[high_age_filter]\n",
        "print(f\"\\n평균 나이({avg_age:.1f})보다 높은 사람들:\")\n",
        "print(filtered_df)\n"
      ],
      "metadata": {
        "colab": {
          "base_uri": "https://localhost:8080/"
        },
        "id": "nG1Og_rH6tNP",
        "outputId": "7047d7ea-fd92-4191-fe14-d3fd6aed3565"
      },
      "execution_count": null,
      "outputs": [
        {
          "output_type": "stream",
          "name": "stdout",
          "text": [
            "고성과자 분류 추가:\n",
            "      name  age  salary High_performer\n",
            "0    Alice   25   50000             No\n",
            "1      Bob   30   60000            yes\n",
            "2  Charlie   35   70000            yes\n",
            "3    Diana   28   55000             No\n",
            "\n",
            "평균 나이(29.5)보다 높은 사람들:\n",
            "      name  age  salary High_performer\n",
            "1      Bob   30   60000            yes\n",
            "2  Charlie   35   70000            yes\n"
          ]
        }
      ]
    },
    {
      "cell_type": "code",
      "source": [
        "# 데이터 처리 함수들\n",
        "def add_bonus_column(df):\n",
        "  df['bonus'] = df['salary'] * 0.1\n",
        "  return df\n",
        "\n",
        "def categorize_age(df):\n",
        "  df['age_group'] = df['age'].apply(lambda x : 'Young' if x < 30 else 'Senior')\n",
        "  return df\n",
        "\n",
        "def calculate_total_compensation(df):\n",
        "  df['total_comp'] = df['salary'] + df['bonus']\n",
        "  return df\n",
        "\n",
        "# 여러 함수를 체이닝으로 연결\n",
        "result = (df.pipe(add_bonus_column)\n",
        "            .pipe(categorize_age)\n",
        "            .pipe(calculate_total_compensation))\n",
        "\n",
        "print(\"파이프 체이닝 결과:\")\n",
        "print(result)"
      ],
      "metadata": {
        "colab": {
          "base_uri": "https://localhost:8080/"
        },
        "id": "X6Q-1NPQ8S8A",
        "outputId": "7eda8ba6-e6e4-46a9-bdd7-8c7f6bc715c8"
      },
      "execution_count": null,
      "outputs": [
        {
          "output_type": "stream",
          "name": "stdout",
          "text": [
            "파이프 체이닝 결과:\n",
            "      name  age  salary High_performer   bonus age_group  total_comp\n",
            "0    Alice   25   50000             No  5000.0     Young     55000.0\n",
            "1      Bob   30   60000            yes  6000.0    Senior     66000.0\n",
            "2  Charlie   35   70000            yes  7000.0    Senior     77000.0\n",
            "3    Diana   28   55000             No  5500.0     Young     60500.0\n"
          ]
        }
      ]
    },
    {
      "cell_type": "code",
      "source": [
        "# 타이타닉 데이터셋 예시\n",
        "titanic_data = pd.DataFrame({\n",
        "    'class': ['First', 'Second', 'Third', 'First', 'Second', 'Third'],\n",
        "    'sex': ['male', 'female', 'male', 'female', 'male', 'female'],\n",
        "    'age': [22, 38, 26, 35, 45, 29],\n",
        "    'fare': [71.28, 71.28, 7.92, 53.10, 13.00, 7.75]\n",
        "})\n",
        "\n",
        "print(\"원본 타이타닉 데이터:\")\n",
        "print(titanic_data)\n",
        "\n",
        "# 단일 기준 그룹화\n",
        "grouped = titanic_data.groupby('class')\n",
        "print(\"\\n클래스별 평균 나이:\")\n",
        "print(grouped['age'].mean())\n",
        "\n",
        "# 다중 기준 그룹화\n",
        "grouped_two = titanic_data.groupby(['class','sex'])\n",
        "print(\"\\n클래스와 성별 그룹화:\")\n",
        "print(grouped_two.size())\n",
        "\n",
        "# 집계 함수 적용\n",
        "result = titanic_data.groupby('class').agg({\n",
        "    'age': 'mean',\n",
        "    'fare': ['min', 'max']\n",
        "})\n",
        "print(\"\\n클래스별 집계 결과:\")\n",
        "print(result)\n"
      ],
      "metadata": {
        "colab": {
          "base_uri": "https://localhost:8080/"
        },
        "id": "oe6aLRo2820J",
        "outputId": "adb2eca9-8d31-468f-faeb-7d237fafa078"
      },
      "execution_count": null,
      "outputs": [
        {
          "output_type": "stream",
          "name": "stdout",
          "text": [
            "원본 타이타닉 데이터:\n",
            "    class     sex  age   fare\n",
            "0   First    male   22  71.28\n",
            "1  Second  female   38  71.28\n",
            "2   Third    male   26   7.92\n",
            "3   First  female   35  53.10\n",
            "4  Second    male   45  13.00\n",
            "5   Third  female   29   7.75\n",
            "\n",
            "클래스별 평균 나이:\n",
            "class\n",
            "First     28.5\n",
            "Second    41.5\n",
            "Third     27.5\n",
            "Name: age, dtype: float64\n",
            "\n",
            "클래스와 성별 그룹화:\n",
            "class   sex   \n",
            "First   female    1\n",
            "        male      1\n",
            "Second  female    1\n",
            "        male      1\n",
            "Third   female    1\n",
            "        male      1\n",
            "dtype: int64\n",
            "\n",
            "클래스별 집계 결과:\n",
            "         age   fare       \n",
            "        mean    min    max\n",
            "class                     \n",
            "First   28.5  53.10  71.28\n",
            "Second  41.5  13.00  71.28\n",
            "Third   27.5   7.75   7.92\n"
          ]
        }
      ]
    },
    {
      "cell_type": "code",
      "source": [
        "# 그룹별 누적합\n",
        "titanic_data['fare_cumsum'] = titanic_data.groupby('class')['fare'].cumsum()\n",
        "print(\"그룹별 요금 누적합:\")\n",
        "print(titanic_data[['class', 'fare', 'fare_cumsum']])"
      ],
      "metadata": {
        "colab": {
          "base_uri": "https://localhost:8080/"
        },
        "id": "zPMqDEA891at",
        "outputId": "0f566b16-6417-47b9-83c4-d132e5961353"
      },
      "execution_count": null,
      "outputs": [
        {
          "output_type": "stream",
          "name": "stdout",
          "text": [
            "그룹별 요금 누적합:\n",
            "    class   fare  fare_cumsum\n",
            "0   First  71.28        71.28\n",
            "1  Second  71.28        71.28\n",
            "2   Third   7.92         7.92\n",
            "3   First  53.10       124.38\n",
            "4  Second  13.00        84.28\n",
            "5   Third   7.75        15.67\n"
          ]
        }
      ]
    },
    {
      "cell_type": "code",
      "source": [
        "# z-score 계산\n",
        "titanic_data['age_zscore'] = titanic_data.groupby('class')['age'].transform(\n",
        "    lambda x: (x - x.mean()) / x.std()\n",
        ")\n",
        "\n",
        "print(\"\\n클래스별 나이 z-score:\")\n",
        "print(titanic_data[['class', 'age', 'age_zscore']])"
      ],
      "metadata": {
        "colab": {
          "base_uri": "https://localhost:8080/"
        },
        "id": "8sAf9Qd0-9Mn",
        "outputId": "324656b0-c962-41b1-f74c-9b88f398a07d"
      },
      "execution_count": null,
      "outputs": [
        {
          "output_type": "stream",
          "name": "stdout",
          "text": [
            "\n",
            "클래스별 나이 z-score:\n",
            "    class  age  age_zscore\n",
            "0   First   22   -0.707107\n",
            "1  Second   38   -0.707107\n",
            "2   Third   26   -0.707107\n",
            "3   First   35    0.707107\n",
            "4  Second   45    0.707107\n",
            "5   Third   29    0.707107\n"
          ]
        }
      ]
    },
    {
      "cell_type": "code",
      "source": [
        "# 샘플 데이터프레임들\n",
        "df1 = pd.DataFrame({\n",
        "    'id': [1, 2, 3],\n",
        "    'name': ['Alice', 'Bob', 'Charlie'],\n",
        "    'score': [85, 90, 88]\n",
        "})\n",
        "df2 = pd.DataFrame({\n",
        "    'id': [4, 5, 6],\n",
        "    'name': ['Diana', 'Eve', 'Frank'],\n",
        "    'score': [92, 87, 85]\n",
        "})\n",
        "\n",
        "print(\"df1:\")\n",
        "print(df1)\n",
        "print(\"\\ndf2:\")\n",
        "print(df2)\n",
        "\n",
        "# 수직 연결\n",
        "result1 = pd.concat([df1, df2], axis=0, ignore_index=True)\n",
        "print(\"\\n수직 연결 결과:\")\n",
        "print(result1)\n",
        "\n",
        "# 수평 연결용 데이터\n",
        "df3 = pd.DataFrame({\n",
        "    'age': [25, 30, 35],\n",
        "    'city': ['Seoul', 'Busan', 'Incheon']\n",
        "})\n",
        "\n",
        "result2 = pd.concat([df1,df3],axis=1)\n",
        "print(\"\\n수평 연결 결과:\")\n",
        "print(result2)"
      ],
      "metadata": {
        "colab": {
          "base_uri": "https://localhost:8080/"
        },
        "id": "_nU_1dIiCrlm",
        "outputId": "71ec5a82-df04-41ba-8e9d-08ffb2e76a52"
      },
      "execution_count": null,
      "outputs": [
        {
          "output_type": "stream",
          "name": "stdout",
          "text": [
            "df1:\n",
            "   id     name  score\n",
            "0   1    Alice     85\n",
            "1   2      Bob     90\n",
            "2   3  Charlie     88\n",
            "\n",
            "df2:\n",
            "   id   name  score\n",
            "0   4  Diana     92\n",
            "1   5    Eve     87\n",
            "2   6  Frank     85\n",
            "\n",
            "수직 연결 결과:\n",
            "   id     name  score\n",
            "0   1    Alice     85\n",
            "1   2      Bob     90\n",
            "2   3  Charlie     88\n",
            "3   4    Diana     92\n",
            "4   5      Eve     87\n",
            "5   6    Frank     85\n",
            "\n",
            "수평 연결 결과:\n",
            "   id     name  score  age     city\n",
            "0   1    Alice     85   25    Seoul\n",
            "1   2      Bob     90   30    Busan\n",
            "2   3  Charlie     88   35  Incheon\n"
          ]
        }
      ]
    },
    {
      "cell_type": "code",
      "source": [
        "# 병합용 데이터프레임들\n",
        "students = pd.DataFrame({\n",
        "    'id': [1, 2, 3, 4],\n",
        "    'name': ['Alice', 'Bob', 'Charlie', 'Diana'],\n",
        "    'class': ['A', 'B', 'A', 'C']\n",
        "})\n",
        "\n",
        "grades = pd.DataFrame({\n",
        "    'id': [1, 2, 3, 5],\n",
        "    'subject': ['Math', 'Science', 'English', 'History'],\n",
        "    'grade': [95, 88, 92, 85]\n",
        "})\n",
        "\n",
        "print(\"students 데이터:\")\n",
        "print(students)\n",
        "print(\"\\ngrades 데이터:\")\n",
        "print(grades)\n",
        "\n",
        "# Inner Join (공통된 id만 출)\n",
        "merge_inner = pd.merge(students,grades,how='inner',on='id')\n",
        "print(\"\\nInner Join 결과:\")\n",
        "print(merge_inner)\n",
        "\n",
        "# Left Join (students를 기준으로 데이터 병합)\n",
        "merge_left = pd.merge(students, grades, how='left', on='id')\n",
        "print(\"\\nLeft Join 결과:\")\n",
        "print(merge_left)"
      ],
      "metadata": {
        "colab": {
          "base_uri": "https://localhost:8080/"
        },
        "id": "h4MkFBfdC8eA",
        "outputId": "c6bbd5c8-6210-47ed-dc94-3c43dea37b47"
      },
      "execution_count": null,
      "outputs": [
        {
          "output_type": "stream",
          "name": "stdout",
          "text": [
            "students 데이터:\n",
            "   id     name class\n",
            "0   1    Alice     A\n",
            "1   2      Bob     B\n",
            "2   3  Charlie     A\n",
            "3   4    Diana     C\n",
            "\n",
            "grades 데이터:\n",
            "   id  subject  grade\n",
            "0   1     Math     95\n",
            "1   2  Science     88\n",
            "2   3  English     92\n",
            "3   5  History     85\n",
            "\n",
            "Inner Join 결과:\n",
            "   id     name class  subject  grade\n",
            "0   1    Alice     A     Math     95\n",
            "1   2      Bob     B  Science     88\n",
            "2   3  Charlie     A  English     92\n",
            "\n",
            "Left Join 결과:\n",
            "   id     name class  subject  grade\n",
            "0   1    Alice     A     Math   95.0\n",
            "1   2      Bob     B  Science   88.0\n",
            "2   3  Charlie     A  English   92.0\n",
            "3   4    Diana     C      NaN    NaN\n"
          ]
        }
      ]
    },
    {
      "cell_type": "code",
      "source": [
        "# 피벗 테이블용 데이터\n",
        "sales_data = pd.DataFrame({\n",
        "    'date': ['2024-01', '2024-01', '2024-02', '2024-02', '2024-01', '2024-02'],\n",
        "    'product': ['A', 'B', 'A', 'B', 'A', 'B'],\n",
        "    'region': ['North', 'South', 'North', 'South', 'South', 'North'],\n",
        "    'sales': [100, 150, 120, 180, 110, 160]\n",
        "})\n",
        "\n",
        "print(\"원본 판매 데이터:\")\n",
        "print(sales_data)\n",
        "\n",
        "# 피벗 테이블 생성\n",
        "pivot_df = sales_data.pivot_table(\n",
        "    index='date',\n",
        "    columns='product',\n",
        "    values='sales',\n",
        "    aggfunc='sum'\n",
        ")\n",
        "print(\"\\n피벗 테이블 (날짜별-제품별 판매량):\")\n",
        "print(pivot_df)"
      ],
      "metadata": {
        "colab": {
          "base_uri": "https://localhost:8080/"
        },
        "id": "t6rvjocrD8gk",
        "outputId": "0b1686c5-48f7-47ac-b5a2-b02b965c402b"
      },
      "execution_count": null,
      "outputs": [
        {
          "output_type": "stream",
          "name": "stdout",
          "text": [
            "원본 판매 데이터:\n",
            "      date product region  sales\n",
            "0  2024-01       A  North    100\n",
            "1  2024-01       B  South    150\n",
            "2  2024-02       A  North    120\n",
            "3  2024-02       B  South    180\n",
            "4  2024-01       A  South    110\n",
            "5  2024-02       B  North    160\n",
            "\n",
            "피벗 테이블 (날짜별-제품별 판매량):\n",
            "product    A    B\n",
            "date             \n",
            "2024-01  210  150\n",
            "2024-02  120  340\n"
          ]
        }
      ]
    },
    {
      "cell_type": "code",
      "source": [
        "# 스택/언스택용 데이터\n",
        "df_stack = pd.DataFrame({\n",
        "    'A': [1, 2, 3],\n",
        "    'B': [4, 5, 6],\n",
        "    'C': [7, 8, 9]\n",
        "}, index=['X', 'Y', 'Z'])\n",
        "\n",
        "print(\"원본 데이터:\")\n",
        "print(df_stack)\n",
        "\n",
        "# 스택: 열을 행으로 변환\n",
        "stacked = df_stack.stack()\n",
        "print(\"\\n스택 결과 (열→행):\")\n",
        "print(stacked)\n",
        "\n",
        "# 언스택: 행을 열로 변환\n",
        "unstacked = stacked.unstack()\n",
        "print(\"\\n언스택 결과 (행→열):\")\n",
        "print(unstacked)\n"
      ],
      "metadata": {
        "colab": {
          "base_uri": "https://localhost:8080/"
        },
        "id": "nwxcC717FQ1C",
        "outputId": "f2dae83a-a3bd-4cd6-a362-1daf398b6659"
      },
      "execution_count": null,
      "outputs": [
        {
          "output_type": "stream",
          "name": "stdout",
          "text": [
            "원본 데이터:\n",
            "   A  B  C\n",
            "X  1  4  7\n",
            "Y  2  5  8\n",
            "Z  3  6  9\n",
            "\n",
            "스택 결과 (열→행):\n",
            "X  A    1\n",
            "   B    4\n",
            "   C    7\n",
            "Y  A    2\n",
            "   B    5\n",
            "   C    8\n",
            "Z  A    3\n",
            "   B    6\n",
            "   C    9\n",
            "dtype: int64\n",
            "\n",
            "언스택 결과 (행→열):\n",
            "   A  B  C\n",
            "X  1  4  7\n",
            "Y  2  5  8\n",
            "Z  3  6  9\n"
          ]
        }
      ]
    },
    {
      "cell_type": "code",
      "source": [
        "# Melt용 데이터 (Wide 형태)\n",
        "wide_df = pd.DataFrame({\n",
        "    'Name': ['Alice', 'Bob', 'Charlie'],\n",
        "    'City': ['Seoul', 'Busan', 'Incheon'],\n",
        "    'Math': [85, 90, 88],\n",
        "    'Science': [92, 87, 85],\n",
        "    'English': [78, 95, 92]\n",
        "})\n",
        "\n",
        "print(\"Wide 형태 데이터:\")\n",
        "print(wide_df)"
      ],
      "metadata": {
        "colab": {
          "base_uri": "https://localhost:8080/"
        },
        "id": "gOogU5z9IR9j",
        "outputId": "692663ff-ceb1-4719-d2c2-e588bbb043fc"
      },
      "execution_count": null,
      "outputs": [
        {
          "output_type": "stream",
          "name": "stdout",
          "text": [
            "Wide 형태 데이터:\n",
            "      Name     City  Math  Science  English\n",
            "0    Alice    Seoul    85       92       78\n",
            "1      Bob    Busan    90       87       95\n",
            "2  Charlie  Incheon    88       85       92\n"
          ]
        }
      ]
    }
  ]
}